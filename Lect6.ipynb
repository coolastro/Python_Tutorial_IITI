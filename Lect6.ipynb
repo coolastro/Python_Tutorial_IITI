{
 "cells": [
  {
   "cell_type": "markdown",
   "metadata": {},
   "source": [
    "# Lect 6 : Building your own Modules.\n",
    "\n",
    "## Python Classes\n",
    "\n",
    "The first step to build your own module is to understand the concept of *class* in the framework of object orientated programming.\n",
    "\n",
    "The *class* is a fundamental building block in Python. \n",
    "A *class* is simply a logical grouping of data and functions (the latter of which are frequently referred to as *methods* when defined within a class).\n",
    "By locigal grouping we mean a collection of data and functions that are logically connected and from the consitituent of the class. \n",
    "*Class* and *object* are often used interchangeably but thats not what should be confused with. \n",
    "\n",
    "A *class* can be thought of a **blueprint** to create an *object*. \n",
    "Lets illustrate with an example -- "
   ]
  },
  {
   "cell_type": "code",
   "execution_count": null,
   "metadata": {
    "collapsed": true
   },
   "outputs": [],
   "source": [
    "# Example taken from a very nice blog of Jeff Knupp on Python classes.\n",
    "\n",
    "class Customer(object):\n",
    "    \"\"\"A customer of ABC Bank with a checking account. Customers have the\n",
    "    following properties:\n",
    "\n",
    "    Attributes:\n",
    "        name: A string representing the customer's name.\n",
    "        balance: A float tracking the current balance of the customer's account.\n",
    "    \"\"\"\n",
    "\n",
    "    def __init__(self, name, balance=0.0):\n",
    "        \"\"\"Return a Customer object whose name is *name* and starting\n",
    "        balance is *balance*.\"\"\"\n",
    "        self.name = name\n",
    "        self.balance = balance\n",
    "\n",
    "    def withdraw(self, amount):\n",
    "        \"\"\"Return the balance remaining after withdrawing *amount*\n",
    "        dollars.\"\"\"\n",
    "        if amount > self.balance:\n",
    "            raise RuntimeError('Amount greater than available balance.')\n",
    "        self.balance -= amount\n",
    "        return self.balance\n",
    "\n",
    "    def deposit(self, amount):\n",
    "        \"\"\"Return the balance remaining after depositing *amount*\n",
    "        dollars.\"\"\"\n",
    "        self.balance += amount\n",
    "        return self.balance"
   ]
  },
  {
   "cell_type": "markdown",
   "metadata": {},
   "source": [
    "When I define a **Customer class** using the class keyword, I haven't actually created a customer. Instead, what I've created is a sort of instruction manual for constructing *customer objects*."
   ]
  },
  {
   "cell_type": "code",
   "execution_count": null,
   "metadata": {
    "collapsed": false
   },
   "outputs": [],
   "source": [
    "# Instantiating the Customer class.\n",
    "cust1 = Customer('XYZ', balance=200.0)\n",
    "cust2 = Customer('ABC', balance=1000000.0)\n",
    "\n",
    "#cust1 and cust2 are objects created using Customer class. They are known \n",
    "#in technical terms as *instance*. \n",
    "print cust1.name, cust2.balance"
   ]
  },
  {
   "cell_type": "markdown",
   "metadata": {},
   "source": [
    "The Customer class has three methods - deposit, widthdraw and **__init__**.\n",
    "\n",
    "What is this **__init__**??\n",
    "This is essential method for all classes to initialize the blueprint of the object that will be created using this class. The arguments to this method is **self** and other user-defined arguments like *name* and *balance* in the above case. \n",
    "\n",
    "What does **self** actually mean??\n",
    "This is a necessary *first* input argument to all methods defined in a class. \n",
    "A method like *withdraw* defines the instructions for withdrawing money from some abstract customer's account. \n",
    "Calling cust1.withdraw(100.0) puts those instructions to use on the cust1 instance.\n",
    "\n",
    "So when we say def withdraw(self, amount):, we're saying, \"here's how you withdraw money from a Customer object (which we'll call self) and a currency figure (which we'll call amount). **self** is the instance of the Customer that withdraw is being called on. cust1.withdraw(100.0) is just shorthand for Customer.withdraw(cust1, 100.0), which is perfectly valid (if not often seen) code.\n"
   ]
  },
  {
   "cell_type": "markdown",
   "metadata": {},
   "source": [
    "# Planets and Star Class. \n",
    "\n",
    "Task at hand to build 3 different classes that describe *Star*, *Planet* and finally using them the *PlanetarySystem*. \n",
    "\n",
    "Step 1 : Create a class for a *star*."
   ]
  },
  {
   "cell_type": "code",
   "execution_count": null,
   "metadata": {
    "collapsed": false
   },
   "outputs": [],
   "source": [
    "import numpy as np\n",
    "import scipy.constants as sci\n",
    "\n",
    "class Star:\n",
    "    \"\"\"\n",
    "    Class to create stars. \n",
    "    \n",
    "    Args:\n",
    "        massin (float)  - Mass of the star\n",
    "        radiusin(float) - Radius of the star.\n",
    "        \n",
    "    \"\"\"\n",
    "    grav = sci.G  # Gravitational constant\n",
    "\n",
    "    def __init__(self, massin, radiusin):\n",
    "        self.mass = massin\n",
    "        self.radius = radiusin\n",
    "\n",
    "    def get_surface_gravity(self):\n",
    "        \"\"\"\n",
    "        Computes the surface gravity of the star from the mass and radius.\n",
    "        \"\"\"\n",
    "        return Star.grav * self.mass / self.radius ** 2\n",
    "\n",
    "    def __str__(self):\n",
    "        \"\"\"\n",
    "        Prints the star object that is created in a fancy manner.\n",
    "        \"\"\"\n",
    "        string = ''\n",
    "        string += 'Mass is\\t\\t\\t %.2f\\n' % self.mass\n",
    "        string += 'Radius is\\t\\t %.2f\\n' % self.radius\n",
    "        string += 'Surface gravity is\\t %le\\n' % self.get_surface_gravity()\n",
    "        return string\n",
    "\n",
    "    def __add__(self, other):\n",
    "        \"\"\"\n",
    "        The formulae to add the masses and radii of two star objects.\n",
    "        \"\"\"\n",
    "        return Star(self.mass + other.mass, np.sqrt(self.radius + other.radius))\n",
    "\n",
    "    @staticmethod\n",
    "    def get_spectral_types():\n",
    "        \"\"\"\n",
    "        The static method that is common to all stars and defines the \n",
    "        spectral type of the star.\n",
    "        \"\"\"\n",
    "        return ['O', 'B', 'A', 'F', 'G', 'K', 'M']"
   ]
  },
  {
   "cell_type": "code",
   "execution_count": null,
   "metadata": {
    "collapsed": false
   },
   "outputs": [],
   "source": [
    "star1 = Star(1.1, 0.98)\n",
    "star2 = Star(0.8, 1.3)\n",
    "\n",
    "print star1, star2\n",
    "\n",
    "star_tot = star1 + star2\n",
    "print star_tot"
   ]
  },
  {
   "cell_type": "markdown",
   "metadata": {},
   "source": [
    "# Exercise : \n",
    "\n",
    "Step 2: \n",
    "Create a Planet class that should take arguments as, planet mass, radius, eccentricity, period, distance and a boolean *has_life*. \n",
    "Develop the **__str__** method to print these quantities and make sure it prints *Life exsists on planet* if *has_life* is True else print *A dead Planet*. \n",
    "\n",
    "Also define a method to compute the surface gravity of the planet (just as done for the Star class). \n",
    "Also make an arrangement to include information about the type of a planet -- say *rocky*, *gasesous*, *Puffy*, *Water World* etc."
   ]
  },
  {
   "cell_type": "code",
   "execution_count": null,
   "metadata": {
    "collapsed": false
   },
   "outputs": [],
   "source": [
    "import scipy.constants as sci\n",
    "class Planet:\n",
    "    \"\"\"\n",
    "    Framework to create a Planet class. \n",
    "    \n",
    "    Args:\n",
    "        p_name (str)   : Name of the Planet\n",
    "        p_m    (float) : Mass of the Planet\n",
    "        p_r    (float) : Radius of the Planet\n",
    "        p_ecc  (float) : Eccentricity of the planet\n",
    "        p_per  (float) : Period of the planet\n",
    "        p_dist (float) : Distance of the planet\n",
    "        has_life (bool): Flag indicating exsistence of Life\n",
    "        \n",
    "    Methods:\n",
    "        get_surface_gravity - Computes the surface gravity from mass and radius\n",
    "        \n",
    "    StaticMethods:\n",
    "        get_planetary_type  - Lists different types of planets. \n",
    "        \n",
    "    Syntax:\n",
    "        pl1 = Planet('ABC',2.0,4.0,6.0,8.0,10.0,False)\n",
    "    \n",
    "    \"\"\"\n",
    "    grav = sci.G\n",
    "    # Add your definitions here.\n",
    "    "
   ]
  },
  {
   "cell_type": "code",
   "execution_count": null,
   "metadata": {
    "collapsed": true
   },
   "outputs": [],
   "source": [
    "# Try your Planet class here. \n",
    "#planet1 = Planet('XYZ', 5, 10, 0.1, 2.4, 0.02, True)\n",
    "#print planet1"
   ]
  },
  {
   "cell_type": "markdown",
   "metadata": {},
   "source": [
    "Finally Step 3 : Create a Planetary System "
   ]
  },
  {
   "cell_type": "code",
   "execution_count": null,
   "metadata": {
    "collapsed": true
   },
   "outputs": [],
   "source": [
    "class PlanetarySystem:\n",
    "    def __init__(self, name, central_star, planetlist):\n",
    "        self.name = name\n",
    "        self.star = central_star\n",
    "        self.planets = planetlist\n",
    "    \n",
    "    def __str__(self):\n",
    "        string = ''\n",
    "        string += '\\n' + '*' * 33 + '\\n'\n",
    "        string += '*** Welcome to the %s ***\\n' % self.name\n",
    "        string += '*' * 33 + '\\n'\n",
    "        string += 'The central star has following properties\\n'\n",
    "        string += 'Mass : %.2f,  Radius : %.2f\\n\\n'%(self.star.mass, self.star.radius)\n",
    "        string += 'That has %d planets with names - \\n'% len(self.planets)\n",
    "        for p in self.planets:\n",
    "            string += '%s \\n' % p.p_name\n",
    "            \n",
    "        string += 'Out of which following planets have life - \\n'\n",
    "        for plf in self.get_planets_with_life():\n",
    "            string += '%s\\n'%plf\n",
    "        \n",
    "        return string\n",
    "    \n",
    "    def get_planets_with_life(self):\n",
    "        pl_w_life = []\n",
    "        for planet in self.planets:\n",
    "            if planet.has_life == True:\n",
    "                pl_w_life.append(planet.p_name)\n",
    "        return pl_w_life\n",
    "    "
   ]
  },
  {
   "cell_type": "code",
   "execution_count": null,
   "metadata": {
    "collapsed": false
   },
   "outputs": [],
   "source": [
    "Sun = Star(1.0,1.0)\n",
    "pl1 = Planet('Mercury', 0.03, 0.2, 0.01, 0.1, 5.0, False)\n",
    "pl2 = Planet('Venus', 0.06, 0.5, 0.1, 0.5, 7.0, False)\n",
    "pl3 = Planet('Earth', 1.0, 2.0, 0.1, 1.0, 10.0, True)\n",
    "pl4 = Planet('Jupiter', 50.0, 20.0, 0.1, 10.0, 100.0, False)\n",
    "pllist = [pl1, pl2, pl3, pl4]\n",
    "ps = PlanetarySystem('Solar System',Sun, pllist)\n",
    "print ps"
   ]
  },
  {
   "cell_type": "markdown",
   "metadata": {
    "collapsed": true
   },
   "source": [
    "# Documentation Using Sphinx\n",
    "\n",
    "**Step 1** Installation - \n",
    "\n",
    "pip install sphinx\n",
    "\n",
    "**Step 2** Quick Start the Documentation. \n",
    "\n",
    "sphinx-quickstart\n",
    "\n",
    "**Step 3** Build the documentation\n",
    "\n",
    "Uses the *ReStructured Text*."
   ]
  },
  {
   "cell_type": "code",
   "execution_count": null,
   "metadata": {
    "collapsed": true
   },
   "outputs": [],
   "source": []
  }
 ],
 "metadata": {
  "kernelspec": {
   "display_name": "Python 2",
   "language": "python",
   "name": "python2"
  },
  "language_info": {
   "codemirror_mode": {
    "name": "ipython",
    "version": 2
   },
   "file_extension": ".py",
   "mimetype": "text/x-python",
   "name": "python",
   "nbconvert_exporter": "python",
   "pygments_lexer": "ipython2",
   "version": "2.7.6"
  }
 },
 "nbformat": 4,
 "nbformat_minor": 1
}
