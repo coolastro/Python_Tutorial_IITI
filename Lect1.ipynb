{
 "cells": [
  {
   "cell_type": "markdown",
   "metadata": {},
   "source": [
    "# Lecture 1 : Getting Started with Python"
   ]
  },
  {
   "cell_type": "markdown",
   "metadata": {},
   "source": [
    "**WHAT IS PYTHON?**\n",
    "\n",
    "1. *Python* is an high level programming language and is *interperated*  $\\rightarrow$ No need to pre-compile the code like you do for C or Fortran.\n",
    "2. User-friendly syntax $\\rightarrow$ simplifies the code considerably and makes its easily readable.\n",
    "3. Uses the *Objected Oriented Programming* fundamentals $\\rightarrow$ The basic building block in *Python* is an **OBJECT**\n",
    "4. Has large number of scientific, manipulative and graphic libraries $\\rightarrow$ Ideal for scientific and engineering coding\n",
    "5. Fully **Open Source** $\\rightarrow$ A distinct advantage over pricy *IDL* or *Matlab*"
   ]
  },
  {
   "cell_type": "markdown",
   "metadata": {},
   "source": [
    "**INSTALLATION**\n",
    "\n",
    "1. Native Python installation comes with mostly all Linux distribution and also with Mac.\n",
    "2. There are few standalone Python distribution also available : Enthougth, Anaconda, PythonXY (for Windows) etc.\n",
    "3. Standard Libraries can be also obtained from *Python Package Index* [**RECOMMENDED**]\n",
    "4. You can also use python-setuptools and the command there is *easy_install* instead of *pip*. "
   ]
  },
  {
   "cell_type": "raw",
   "metadata": {},
   "source": [
    "FIRST Install python-pip\n",
    "$> sudo apt-get install python-pip                    #For Ubuntu.\n",
    "\n",
    "\n",
    "THEN ALMOST ALL LIBRARIES CAN BE INSTALLED AS FOLLOWS-\n",
    "$> pip install SomePackage                            # Latest Version.\n",
    "$> pip install SomePackage==1.0.4                     # Specific Version.\n",
    "$> pip install SomePackage>=1.0.4                     # minimum Version.\n",
    "$> pip uninstall SomePackage                          # Uninstall current version.\n",
    "$> pip install --upgrade SomePackage                  # Upgrade current to latest version.\n",
    "$> pip install -U SomePackage                         # User install in $PYTHONPATH (No need for Admin rights)"
   ]
  },
  {
   "cell_type": "markdown",
   "metadata": {},
   "source": [
    "**USAGE**\n",
    "\n",
    "Simply type *python* in the terminal $\\rightarrow$ "
   ]
  },
  {
   "cell_type": "raw",
   "metadata": {},
   "source": [
    "Python 2.7.6 (default, Sep  9 2014, 15:04:36) \n",
    "[GCC 4.2.1 Compatible Apple LLVM 6.0 (clang-600.0.39)] on darwin\n",
    "Type \"help\", \"copyright\", \"credits\" or \"license\" for more information.\n",
    ">>> "
   ]
  },
  {
   "cell_type": "markdown",
   "metadata": {},
   "source": [
    "Or using the *Ipython* environment by typing the same in the terminal $\\rightarrow$"
   ]
  },
  {
   "cell_type": "raw",
   "metadata": {},
   "source": [
    "Python 2.7.6 (default, Sep  9 2014, 15:04:36) \n",
    "Type \"copyright\", \"credits\" or \"license\" for more information.\n",
    "\n",
    "IPython 5.1.0 -- An enhanced Interactive Python.\n",
    "?         -> Introduction and overview of IPython's features.\n",
    "%quickref -> Quick reference.\n",
    "help      -> Python's own help system.\n",
    "object?   -> Details about 'object', use 'object??' for extra details.\n",
    "\n",
    "In [1]: "
   ]
  },
  {
   "cell_type": "markdown",
   "metadata": {},
   "source": [
    "In case you want to have the pylab : Numpy & Matplotlib, you should type *ipython --pylab* in the terminal"
   ]
  },
  {
   "cell_type": "raw",
   "metadata": {},
   "source": [
    "Python 2.7.6 (default, Sep  9 2014, 15:04:36) \n",
    "Type \"copyright\", \"credits\" or \"license\" for more information.\n",
    "\n",
    "IPython 5.1.0 -- An enhanced Interactive Python.\n",
    "?         -> Introduction and overview of IPython's features.\n",
    "%quickref -> Quick reference.\n",
    "help      -> Python's own help system.\n",
    "object?   -> Details about 'object', use 'object??' for extra details.\n",
    "Using matplotlib backend: MacOSX\n",
    "\n",
    "In [1]: "
   ]
  },
  {
   "cell_type": "markdown",
   "metadata": {},
   "source": [
    "Finally, you can use the *ipython notebook* interface for quick check and coding. The notebook is made of *cells* where code, Markdown text, Raw text can be written. To Execute the cell press *shift-enter* "
   ]
  },
  {
   "cell_type": "markdown",
   "metadata": {},
   "source": [
    "**PRINTING IN PYTHON** "
   ]
  },
  {
   "cell_type": "code",
   "execution_count": null,
   "metadata": {
    "collapsed": false
   },
   "outputs": [],
   "source": [
    "print \"Hello World\"     #String can either be in double quotes "
   ]
  },
  {
   "cell_type": "code",
   "execution_count": null,
   "metadata": {
    "collapsed": false
   },
   "outputs": [],
   "source": [
    "s = 'Hello World'      # or single quotes.\n",
    "print(s)"
   ]
  },
  {
   "cell_type": "code",
   "execution_count": null,
   "metadata": {
    "collapsed": false
   },
   "outputs": [],
   "source": [
    "print \"The string I wish to print is '%s'\"%s            #In case you need to use single quotes inside\n",
    "print 'The string I do not wish to print is \"%s\"'%('Bye World')     #or vice versa."
   ]
  },
  {
   "cell_type": "code",
   "execution_count": null,
   "metadata": {
    "collapsed": false
   },
   "outputs": [],
   "source": [
    "print \"Adding one %d and two %d give three %d\"%(1,2,3)"
   ]
  },
  {
   "cell_type": "markdown",
   "metadata": {},
   "source": [
    "**NOTE** In python 3, the *print* is a buildin function, therefore in python 3 it is mandatory to give\n",
    "<font color=brown>print(\"Hello World\")</font>"
   ]
  },
  {
   "cell_type": "markdown",
   "metadata": {},
   "source": [
    "**PYTHON AS CALCULATOR **"
   ]
  },
  {
   "cell_type": "code",
   "execution_count": null,
   "metadata": {
    "collapsed": true
   },
   "outputs": [],
   "source": [
    "a = 3\n",
    "b = 3*a\n",
    "c = 4 + a - b"
   ]
  },
  {
   "cell_type": "code",
   "execution_count": null,
   "metadata": {
    "collapsed": false
   },
   "outputs": [],
   "source": [
    "print type(a), type(b), type(c)"
   ]
  },
  {
   "cell_type": "code",
   "execution_count": null,
   "metadata": {
    "collapsed": false
   },
   "outputs": [],
   "source": [
    "print \"a=%d, b=%d, c=%d\"%(a, b, c)"
   ]
  },
  {
   "cell_type": "code",
   "execution_count": null,
   "metadata": {
    "collapsed": false
   },
   "outputs": [],
   "source": [
    "print b/a, a/c                     # Dividing with integers gives integer (rounded off)"
   ]
  },
  {
   "cell_type": "code",
   "execution_count": null,
   "metadata": {
    "collapsed": false
   },
   "outputs": [],
   "source": [
    "print a/float(c)                   # To get proper division either one of the integer should be converted to float."
   ]
  },
  {
   "cell_type": "code",
   "execution_count": null,
   "metadata": {
    "collapsed": false
   },
   "outputs": [],
   "source": [
    "from __future__ import division    # This ensures that the division between integers gives float.\n",
    "print a/c"
   ]
  },
  {
   "cell_type": "code",
   "execution_count": null,
   "metadata": {
    "collapsed": false
   },
   "outputs": [],
   "source": [
    "print a//c                         #force integer division after importing division."
   ]
  },
  {
   "cell_type": "code",
   "execution_count": null,
   "metadata": {
    "collapsed": false
   },
   "outputs": [],
   "source": [
    "d = 20.0\n",
    "e = d%3                            #Modulo of the number.\n",
    "print e, type(e)\n",
    "%whos                              #Shows the variables and functions in current namespace. "
   ]
  },
  {
   "cell_type": "markdown",
   "metadata": {},
   "source": [
    "Python also has many **magic** words which helps to short-cut some of basic functionals. "
   ]
  },
  {
   "cell_type": "code",
   "execution_count": null,
   "metadata": {
    "collapsed": false
   },
   "outputs": [],
   "source": [
    "%timeit d%3                        # Runs many many iterations of the same command and times it. (Execution time)"
   ]
  },
  {
   "cell_type": "code",
   "execution_count": null,
   "metadata": {
    "collapsed": false
   },
   "outputs": [],
   "source": [
    "%run testmagic.py"
   ]
  },
  {
   "cell_type": "markdown",
   "metadata": {},
   "source": [
    "**PYTHON NUMERICAL TYPES**\n",
    "\n",
    "1. *Int*:      Integer e.g. a = 4\n",
    "\n",
    "2. *Float*:    Float e.g. a = 4.0\n",
    "\n",
    "3. *Complex*:  Complex number e.g. a  = 1.5 + 5.0j\n",
    "\n",
    "4. *Boolean*:  Takes either True or False e.g. a = 3 > 4"
   ]
  },
  {
   "cell_type": "code",
   "execution_count": null,
   "metadata": {
    "collapsed": false
   },
   "outputs": [],
   "source": [
    "a = 1.5 + 5.0j\n",
    "print type(a)                                 # Complex number\n",
    "print a.real, a.imag                          # printing the real and imaginary part --> notice the \"dot\" operator!\n",
    "print type(a.real), type(int(a.imag))         "
   ]
  },
  {
   "cell_type": "code",
   "execution_count": null,
   "metadata": {
    "collapsed": false
   },
   "outputs": [],
   "source": [
    "a = 3 > 4\n",
    "print a, type(a), id(a)"
   ]
  },
  {
   "cell_type": "markdown",
   "metadata": {},
   "source": [
    "**PYTHON TERMINOLOGY**\n",
    "\n",
    "All the data stored in the Python program is build around a concept of an object. Objects include fundamental datatypes such as numbers, strings, lists, dictionaries. It is also possible to create a user-defined object \n",
    "in form of *classes*. (Lecture 3)\n",
    "\n",
    "Every piece of data stored in a program is an object. And each object has a value and an identity. \n",
    "For example : a = 4, is an integer object. Its identity *id(a)* is the pointer to its location in memory and its value is 4.\n",
    "\n",
    "Now the *type(a)* itself is an object that describes the internal representation of the object and the method and operations that it supports.\n",
    "\n",
    "After a object is created, its identity (location in memory) and type can not be further changed.\n",
    "> A *mutable* object is one whose value can be changed, whereas this is not possible for *immutable* object. \n",
    "\n",
    "> An object that contains references to other objects is called *container* or *collection*.\n",
    "\n",
    "> Additionally to holding a value, manu objects define a number of data *attributes* and *methods*\n",
    "\n",
    "An attribute is a property or value associated with an object. \n",
    "For example a = 1.5 + 5.0j is a *complex object* and the attribute *a.real* gives the real number of the *complex object*. \n",
    "\n",
    "A method is a function that performs some sort of operation on an object when the method is invoked. \n",
    "For example  b = [1, 3, 4] is a *list object* and the operation to add a number to this list is called the *append* method i.e., b.append(7) will add 7 to the list. \n",
    "\n",
    "Both Attributes and method are accessed using the *dot* (.) operator. \n",
    "\n",
    "\n"
   ]
  },
  {
   "cell_type": "markdown",
   "metadata": {},
   "source": [
    "**PYTHON CONTAINERS** -- LIST "
   ]
  },
  {
   "cell_type": "code",
   "execution_count": null,
   "metadata": {
    "collapsed": false
   },
   "outputs": [],
   "source": [
    "cols = ['red', 'blue', 'green', 'black', 'white']\n",
    "print type(cols), len(cols)"
   ]
  },
  {
   "cell_type": "markdown",
   "metadata": {},
   "source": [
    "*Indexing* in PYTHON starts from 0! Just like C. Counting from behind is also possible with negative index."
   ]
  },
  {
   "cell_type": "code",
   "execution_count": null,
   "metadata": {
    "collapsed": false
   },
   "outputs": [],
   "source": [
    "print cols[2]                 #Third element of the list\n",
    "print cols[-1]                #Last element of the list\n",
    "print cols[-2]                "
   ]
  },
  {
   "cell_type": "markdown",
   "metadata": {},
   "source": [
    "*Slicing* of lists to obtain sublists as required. *Syntax* : listname[start:stop:stride]; where all slicing params are optional.\n",
    "> if no start is given by default its taken to be 0.\n",
    "\n",
    "> if no stop is given then by default is taken to be -1\n",
    "\n",
    "> if no stride is given then by default it is taken to be 1"
   ]
  },
  {
   "cell_type": "code",
   "execution_count": null,
   "metadata": {
    "collapsed": false
   },
   "outputs": [],
   "source": [
    "print cols                 # Complete list\n",
    "print cols[2:4]            # thrid and fourth element. \n",
    "print cols[3:]             # fourth and fifth element.\n",
    "print cols[:3]             # first, second and third element\n",
    "print cols[::2]            # Starting from 0 to end of list but with stride of 2. i.e., every alternate element"
   ]
  },
  {
   "cell_type": "markdown",
   "metadata": {},
   "source": [
    "Lists in python are **mutable**. They can be changed as and when required. "
   ]
  },
  {
   "cell_type": "code",
   "execution_count": null,
   "metadata": {
    "collapsed": false
   },
   "outputs": [],
   "source": [
    "cols[0] = 'yellow'\n",
    "print cols"
   ]
  },
  {
   "cell_type": "code",
   "execution_count": null,
   "metadata": {
    "collapsed": false
   },
   "outputs": [],
   "source": [
    "cols[2:4] = ['gray', 'purple']\n",
    "print cols"
   ]
  },
  {
   "cell_type": "markdown",
   "metadata": {},
   "source": [
    "The items inside the list can have *different* types"
   ]
  },
  {
   "cell_type": "code",
   "execution_count": null,
   "metadata": {
    "collapsed": false
   },
   "outputs": [],
   "source": [
    "cols = [3, -20.0, 'hello']\n",
    "print type(cols), type(cols[0]), type(cols[1]), type(cols[-1])"
   ]
  },
  {
   "cell_type": "markdown",
   "metadata": {},
   "source": [
    "*Manipulating* with the list object : Add, remove, reverse, repeat, concatenate, sort etc."
   ]
  },
  {
   "cell_type": "markdown",
   "metadata": {},
   "source": [
    "A. Adding and Removing "
   ]
  },
  {
   "cell_type": "code",
   "execution_count": null,
   "metadata": {
    "collapsed": false
   },
   "outputs": [],
   "source": [
    "cols = ['red', 'blue', 'green', 'black', 'white']\n",
    "\n",
    "cols.append('pink')           # Adds only one object\n",
    "print cols\n",
    "cols.pop()                    # Only removes the last item of the list.\n",
    "print cols"
   ]
  },
  {
   "cell_type": "code",
   "execution_count": null,
   "metadata": {
    "collapsed": false
   },
   "outputs": [],
   "source": [
    "cols.append(['pink', 'orange'])\n",
    "print cols, len(cols), type(cols[-1])\n",
    "cols.pop()\n",
    "print cols"
   ]
  },
  {
   "cell_type": "code",
   "execution_count": null,
   "metadata": {
    "collapsed": false
   },
   "outputs": [],
   "source": [
    "cols.extend(['pink', 'orange'])\n",
    "print cols, len(cols), type(cols[-1])\n",
    "cols.remove('pink')                      # Removes the first occurence of the value 'pink'\n",
    "print cols\n",
    "cols.pop()\n",
    "print cols"
   ]
  },
  {
   "cell_type": "markdown",
   "metadata": {},
   "source": [
    "B. Reversing the List"
   ]
  },
  {
   "cell_type": "code",
   "execution_count": null,
   "metadata": {
    "collapsed": false
   },
   "outputs": [],
   "source": [
    "rcols = cols[::-1]\n",
    "print cols, rcols"
   ]
  },
  {
   "cell_type": "code",
   "execution_count": null,
   "metadata": {
    "collapsed": false
   },
   "outputs": [],
   "source": [
    "rcols2 = list(cols)                   # Very important to put the list argument : Creates a copy\n",
    "rcols2.reverse()                      # reverse in place.\n",
    "print cols, rcols2"
   ]
  },
  {
   "cell_type": "markdown",
   "metadata": {},
   "source": [
    "C. Concatenate and Repeating the list"
   ]
  },
  {
   "cell_type": "code",
   "execution_count": null,
   "metadata": {
    "collapsed": false
   },
   "outputs": [],
   "source": [
    "print rcols + cols                 # cocatenate two lists. "
   ]
  },
  {
   "cell_type": "code",
   "execution_count": null,
   "metadata": {
    "collapsed": false
   },
   "outputs": [],
   "source": [
    "print cols*2                       # repeat the list multiple times."
   ]
  },
  {
   "cell_type": "markdown",
   "metadata": {},
   "source": [
    "E. Sorting the list "
   ]
  },
  {
   "cell_type": "code",
   "execution_count": null,
   "metadata": {
    "collapsed": false
   },
   "outputs": [],
   "source": [
    "sorted(rcols)                      # sorted array as a new object."
   ]
  },
  {
   "cell_type": "code",
   "execution_count": null,
   "metadata": {
    "collapsed": false
   },
   "outputs": [],
   "source": [
    "print rcols                        # Original list is not touched."
   ]
  },
  {
   "cell_type": "code",
   "execution_count": null,
   "metadata": {
    "collapsed": false
   },
   "outputs": [],
   "source": [
    "rcols.sort()                        # Sorting is done in place\n",
    "print rcols"
   ]
  },
  {
   "cell_type": "code",
   "execution_count": null,
   "metadata": {
    "collapsed": false
   },
   "outputs": [],
   "source": [
    "rcols.sort(key = lambda s: len(s))   # Using inline function : lambda \n",
    "print rcols"
   ]
  },
  {
   "cell_type": "markdown",
   "metadata": {},
   "source": [
    "**PYTHON CONTAINERS** -- STRINGS\n",
    "\n",
    "Strings are collections just like the list and can also be indexed and sliced as we saw for the list object. The syntax and rules used for the list applies in exactly the same manner to strings as well. \n",
    "\n",
    "**NOTE** Strings in Python are *immutable* object can not be replaced in place. "
   ]
  },
  {
   "cell_type": "code",
   "execution_count": null,
   "metadata": {
    "collapsed": false
   },
   "outputs": [],
   "source": [
    "s = 'Hello, how are you ?'                 # Single quotes\n",
    "s = \"Hey what's your name?\"                # double quotes.\n",
    "\n",
    "# Tripling the quotes allows to span more than one line. \n",
    "s = ''' This is first line\n",
    "        and now second line'''\n",
    "print s\n",
    "\n",
    "# and also tripling double quotes.\n",
    "s = \"\"\" Hey there again\n",
    "what's up?\"\"\"\n",
    "print s"
   ]
  },
  {
   "cell_type": "code",
   "execution_count": null,
   "metadata": {
    "collapsed": false
   },
   "outputs": [],
   "source": [
    "a = 'astronomy'\n",
    "print type(a), len(a)"
   ]
  },
  {
   "cell_type": "code",
   "execution_count": null,
   "metadata": {
    "collapsed": false
   },
   "outputs": [],
   "source": [
    "print a[0], a[-1], a[4:6], a[::3]"
   ]
  },
  {
   "cell_type": "code",
   "execution_count": null,
   "metadata": {
    "collapsed": false
   },
   "outputs": [],
   "source": [
    "a[-1] = 'i'         # Replace 'y' at the end with 'i'"
   ]
  },
  {
   "cell_type": "code",
   "execution_count": null,
   "metadata": {
    "collapsed": false
   },
   "outputs": [],
   "source": [
    "a.replace('o', 'q')"
   ]
  },
  {
   "cell_type": "code",
   "execution_count": null,
   "metadata": {
    "collapsed": false
   },
   "outputs": [],
   "source": [
    "a.replace('o', 'q', 1)"
   ]
  },
  {
   "cell_type": "code",
   "execution_count": null,
   "metadata": {
    "collapsed": false
   },
   "outputs": [],
   "source": [
    "b = ''.join(a[3:6])            # Joining the empty string with another string\n",
    "print b"
   ]
  },
  {
   "cell_type": "code",
   "execution_count": null,
   "metadata": {
    "collapsed": false
   },
   "outputs": [],
   "source": [
    "b.upper()                     # To get capital letters."
   ]
  },
  {
   "cell_type": "code",
   "execution_count": null,
   "metadata": {
    "collapsed": false
   },
   "outputs": [],
   "source": [
    "'The string %s has %d letters'%(b.upper(),len(b))"
   ]
  },
  {
   "cell_type": "markdown",
   "metadata": {},
   "source": [
    "**PYTHON CONTAINERS** -- DICTIONARIES.\n",
    "\n",
    "This is a very efficient table that maps set of keys to  their correspondoing values. For this container Ordering is not important. "
   ]
  },
  {
   "cell_type": "code",
   "execution_count": null,
   "metadata": {
    "collapsed": true
   },
   "outputs": [],
   "source": [
    "obs = {'Radio':'VLA', 'Xray':'Chandra', 'Optical':'Hubble', 'Gamma':'Fermi', 'IR':'Herschel'}"
   ]
  },
  {
   "cell_type": "code",
   "execution_count": null,
   "metadata": {
    "collapsed": false
   },
   "outputs": [],
   "source": [
    "print type(obs)"
   ]
  },
  {
   "cell_type": "code",
   "execution_count": null,
   "metadata": {
    "collapsed": false
   },
   "outputs": [],
   "source": [
    "print obs.keys(), obs.values()"
   ]
  },
  {
   "cell_type": "code",
   "execution_count": null,
   "metadata": {
    "collapsed": false
   },
   "outputs": [],
   "source": [
    "obs['IR']"
   ]
  },
  {
   "cell_type": "code",
   "execution_count": null,
   "metadata": {
    "collapsed": false
   },
   "outputs": [],
   "source": [
    "obs.update({'Submm':['SMA', 'PdBI', 'ALMA']})         # Dictionary can be updated with new key value pair.\n",
    "obs['Xray'] = ['Chandra', 'XMM Newton']               # This is a mutable object just like the list\n",
    "print obs"
   ]
  },
  {
   "cell_type": "markdown",
   "metadata": {},
   "source": [
    "There are other *Python* containers like the **Tuples** and **set** but are very rarely used. One important container we have not discussed yet is that of an **Array** -- A collection of same type of items. For manipulating the array we need a standard Python Package called **Numpy** which will be discussed in next lecture. "
   ]
  },
  {
   "cell_type": "markdown",
   "metadata": {},
   "source": [
    "**CONTROL FLOWS IN PYTHON**\n",
    "\n",
    "Controls the order in which the code is to be executed. \n",
    "\n",
    "**if/else/if**"
   ]
  },
  {
   "cell_type": "code",
   "execution_count": null,
   "metadata": {
    "collapsed": false
   },
   "outputs": [],
   "source": [
    "a = 10\n",
    "\n",
    "if a < 0:\n",
    "    print 'a = %d is negative'%a\n",
    "elif a == 0:\n",
    "    print 'a = %d is 0'%a\n",
    "else:\n",
    "    print 'a = %d is neither negative nor 0'%a"
   ]
  },
  {
   "cell_type": "markdown",
   "metadata": {},
   "source": [
    "** for/range**"
   ]
  },
  {
   "cell_type": "code",
   "execution_count": null,
   "metadata": {
    "collapsed": false
   },
   "outputs": [],
   "source": [
    "for i in range(4):\n",
    "    print i"
   ]
  },
  {
   "cell_type": "code",
   "execution_count": null,
   "metadata": {
    "collapsed": false
   },
   "outputs": [],
   "source": [
    "for word in ['fun', 'complex', 'analytical']:\n",
    "    print \"Astronomy is %s\"%word"
   ]
  },
  {
   "cell_type": "code",
   "execution_count": null,
   "metadata": {
    "collapsed": false
   },
   "outputs": [],
   "source": [
    "sqlist = [i**2 for i in range(1,6,2)]\n",
    "print range(1,6,2), sqlist"
   ]
  },
  {
   "cell_type": "code",
   "execution_count": null,
   "metadata": {
    "collapsed": false
   },
   "outputs": [],
   "source": [
    "for k, v in obs.items():\n",
    "    print \"Wavlength : %s \"%k\n",
    "    print v"
   ]
  },
  {
   "cell_type": "code",
   "execution_count": null,
   "metadata": {
    "collapsed": false
   },
   "outputs": [],
   "source": [
    "s = 'Astronomy is fun complex and analytical'\n",
    "print s.split()\n",
    "for w in s.split():\n",
    "    if len(w) > 5:\n",
    "        print w"
   ]
  },
  {
   "cell_type": "markdown",
   "metadata": {},
   "source": [
    "**while/break/continue**"
   ]
  },
  {
   "cell_type": "code",
   "execution_count": null,
   "metadata": {
    "collapsed": false
   },
   "outputs": [],
   "source": [
    "z = 1 + 1j\n",
    "\n",
    "while abs(z) < 100:\n",
    "    if z.imag == 0:\n",
    "        break                      # breaks out of the while loop if it encounters a pure real number.\n",
    "    z = z**2 + 1\n",
    "    print z, abs(z)"
   ]
  },
  {
   "cell_type": "code",
   "execution_count": null,
   "metadata": {
    "collapsed": false
   },
   "outputs": [],
   "source": [
    "a = [1, 0, 2, 4]\n",
    "for element in a:\n",
    "    if element == 0:\n",
    "        continue                  # This will not execute the next lines but will not exit out of the loop.\n",
    "    print (1./element)"
   ]
  },
  {
   "cell_type": "markdown",
   "metadata": {},
   "source": [
    "** PYTHON FUNCTIONS **\n",
    "\n",
    "For all purposes in scientific computing, we require to have *code repeatablity*. Ideally, one should not write the same algorithm for each and every new dataset. Instead, one should just a function that is general and handles similar datasets. The following code snippets will show how to write a function in Python. "
   ]
  },
  {
   "cell_type": "code",
   "execution_count": null,
   "metadata": {
    "collapsed": false
   },
   "outputs": [],
   "source": [
    "def AddPositiveNumbers1(a, b):\n",
    "    return a + b                         # returns the addition of two numbers. \n",
    "\n",
    "#Usually the mandatory input arguments precedes the optional inputs.\n",
    "def AddPositiveNumbers2(a, b, c=None):\n",
    "    if c == None: c = 0\n",
    "    print \"the sum is : %f\"%(a+b+c)\n",
    "    \n",
    "if __name__==\"__main__\":\n",
    "    a = 2.0\n",
    "    b = 3.0\n",
    "    ans1 = AddPositiveNumbers1(a,b)\n",
    "    print ans1\n",
    "    \n",
    "    AddPositiveNumbers2(a,b)\n",
    "    AddPositiveNumbers2(a,b, c=3.0)"
   ]
  },
  {
   "cell_type": "markdown",
   "metadata": {},
   "source": [
    "**LOADING REQUIRED MODULES**\n",
    "\n",
    "Usually at the begining of a python script, it is required to load all the modules (*pre-compiled libraries*) that will be used in the script.\n",
    "\n",
    "*For example* : Lets develop a script to add two numbers such that the numbers are given as input parameters from the terminal. "
   ]
  },
  {
   "cell_type": "code",
   "execution_count": null,
   "metadata": {
    "collapsed": false
   },
   "outputs": [],
   "source": [
    "%run addnumbers.py 2 4"
   ]
  },
  {
   "cell_type": "markdown",
   "metadata": {},
   "source": [
    "**EXERCISES**"
   ]
  },
  {
   "cell_type": "markdown",
   "metadata": {},
   "source": [
    "1. Consider hydrogen gas having the same density as the density of air under normal temperature and pressure ($\\rho$ = 1.29 kg m$^{-3}$). Given the fact that Ionization potential of hydrogen is 13.6eV, use the *Saha* Equation to calculate the fraction of ionization *x* at different temperatures *T* starting from 10 K to 10^7K and print them in form of a table. [**HINT** : Define *T* and *x* as list and use the quadratic formulae to find the roots] \n",
    "\n",
    "2. The *Crab* Pulsar has period *P = 0.033s* and characteristic slowing time $P/\\dot{P} = 2.5 \\times 10^3$ yr. Estimate the energy loss rate and magnetic field using Python as a calculator. Assume the magnetic dipole axis of the pulsar is almost perpendicular to the reference axis. \n",
    "($\\alpha \\sim \\pi/2 \\rightarrow sin(\\alpha) \\sim 1$)"
   ]
  },
  {
   "cell_type": "markdown",
   "metadata": {},
   "source": [
    " "
   ]
  }
 ],
 "metadata": {
  "kernelspec": {
   "display_name": "Python 2",
   "language": "python",
   "name": "python2"
  },
  "language_info": {
   "codemirror_mode": {
    "name": "ipython",
    "version": 2
   },
   "file_extension": ".py",
   "mimetype": "text/x-python",
   "name": "python",
   "nbconvert_exporter": "python",
   "pygments_lexer": "ipython2",
   "version": "2.7.6"
  }
 },
 "nbformat": 4,
 "nbformat_minor": 1
}
