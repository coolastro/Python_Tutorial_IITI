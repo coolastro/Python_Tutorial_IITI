{
 "cells": [
  {
   "cell_type": "markdown",
   "metadata": {},
   "source": [
    "# Lecture 2 :  Numpy Array and Matplolib Visualisation"
   ]
  },
  {
   "cell_type": "markdown",
   "metadata": {},
   "source": [
    "In the last lecture, we studied the different containers of **PYTHON** like the list, string dictionary etc. \n",
    "We also saw how to control the flow in the code using *for*, *if-else* and *while* loop. \n",
    "\n",
    "In this lecture our focus will be on one of the most widely use **PYTHON OBJECT** called the *numpy.ndarray*. \n",
    "The standard library available in **PYTHON** for array manipulation is called the *Numpy*. We will also see how we can visualize such arrays using a very versatile plotting library called the *Matplotlib*. \n",
    "\n",
    "Advantages of *Numpy* : \n",
    "> 1. Extension package to Python for multi-dimensional arrays\n",
    "> 2. More efficient in terms of memory access due to same type of items\n",
    "> 3. Ideally suited for scientific computations. "
   ]
  },
  {
   "cell_type": "code",
   "execution_count": null,
   "metadata": {
    "collapsed": false
   },
   "outputs": [],
   "source": [
    "import numpy as np                              # Recommended way to import numpy \n",
    "import matplotlib.pyplot as plt                 # Recommended way to import all plotting commands\n",
    "\n",
    "# Magic word to load the namespace with numpy and matplotlib with inline figures\n",
    "%pylab inline                                   "
   ]
  },
  {
   "cell_type": "code",
   "execution_count": null,
   "metadata": {
    "collapsed": false
   },
   "outputs": [],
   "source": [
    "a = np.array([0., 1., 2., 3.])      # Creating a 1D array of 4 elements\n",
    "print type(a), len(a), a.shape, a.ndim, a.T"
   ]
  },
  {
   "cell_type": "markdown",
   "metadata": {},
   "source": [
    "Memory Efficiency can be easily demonstrated. "
   ]
  },
  {
   "cell_type": "code",
   "execution_count": null,
   "metadata": {
    "collapsed": false
   },
   "outputs": [],
   "source": [
    "L = range(1000)\n",
    "print type(L)\n",
    "%timeit [i**2 for i in range(1000)]  # Using for loop to square element wise. "
   ]
  },
  {
   "cell_type": "code",
   "execution_count": null,
   "metadata": {
    "collapsed": false
   },
   "outputs": [],
   "source": [
    "a = np.arange(1000)\n",
    "print type(a)\n",
    "%timeit a**2                       # Element wise squaring in array"
   ]
  },
  {
   "cell_type": "markdown",
   "metadata": {},
   "source": [
    "Creating multi-dimensional arrays :\n",
    "    > Typing each element indivisually -- Not Practical!\n",
    "    > Using the start:stop and spacing information \n",
    "    > Using the start:stop and number of elements information."
   ]
  },
  {
   "cell_type": "code",
   "execution_count": null,
   "metadata": {
    "collapsed": false
   },
   "outputs": [],
   "source": [
    "# Creating multi-dimensional arrays. \n",
    "b = np.array([[0,1,2], [3,4,5]])\n",
    "print b, b.shape"
   ]
  },
  {
   "cell_type": "code",
   "execution_count": null,
   "metadata": {
    "collapsed": false
   },
   "outputs": [],
   "source": [
    "print len(b)                  # Returns the size of the first dimension. \n",
    "print b.shape                 # Returns number of rows x number of columns \n",
    "print b.ndim                  # Returns dimension of the array."
   ]
  },
  {
   "cell_type": "code",
   "execution_count": null,
   "metadata": {
    "collapsed": false
   },
   "outputs": [],
   "source": [
    "c = np.array([[[1], [2]], [[3], [4]]])\n",
    "print c"
   ]
  },
  {
   "cell_type": "code",
   "execution_count": null,
   "metadata": {
    "collapsed": false
   },
   "outputs": [],
   "source": [
    "print len(c)\n",
    "print c.shape\n",
    "print c.ndim"
   ]
  },
  {
   "cell_type": "code",
   "execution_count": null,
   "metadata": {
    "collapsed": false
   },
   "outputs": [],
   "source": [
    "# Evenly spaced arrays using spacing information \n",
    "\n",
    "a = np.arange(10)                   # 0,1,...9 by default the spacing is 1.\n",
    "print a\n",
    "\n",
    "b = np.arange(1,9,2)                # start, end (not included), spacing\n",
    "print b"
   ]
  },
  {
   "cell_type": "code",
   "execution_count": null,
   "metadata": {
    "collapsed": false
   },
   "outputs": [],
   "source": [
    "# Evenly spaced arrays using number of points.\n",
    "\n",
    "a = np.linspace(0,1,6)            # start, end (included), number of points\n",
    "print a\n",
    "\n",
    "b = np.linspace(0,1,6,endpoint=False)  # start, end (not included), number of points\n",
    "print b\n",
    "\n",
    "d = np.linspace(-1.0,5.0,7)\n",
    "print d, 10**d\n",
    "c = np.logspace(-1.0, 5.0, 7)\n",
    "print c\n"
   ]
  },
  {
   "cell_type": "markdown",
   "metadata": {},
   "source": [
    "Most times the above method of creating an array is used. However in certain cases, it may be require to initialize an array and later replace its elements based on some criteria. **Numpy** provides various methods to initialize such arrays."
   ]
  },
  {
   "cell_type": "code",
   "execution_count": null,
   "metadata": {
    "collapsed": false
   },
   "outputs": [],
   "source": [
    "# Other common types of arrays needed for initialize.\n",
    "a = np.ones(shape=(3,3))\n",
    "print a"
   ]
  },
  {
   "cell_type": "code",
   "execution_count": null,
   "metadata": {
    "collapsed": false
   },
   "outputs": [],
   "source": [
    "b = np.zeros(shape=(2,4,2))\n",
    "print b"
   ]
  },
  {
   "cell_type": "code",
   "execution_count": null,
   "metadata": {
    "collapsed": false
   },
   "outputs": [],
   "source": [
    "c = np.diag([1,3,5])\n",
    "print c"
   ]
  },
  {
   "cell_type": "code",
   "execution_count": null,
   "metadata": {
    "collapsed": false
   },
   "outputs": [],
   "source": [
    "A = np.array([[2,3],[3,4]])\n",
    "print A.shape\n",
    "B = np.zeros_like(A)\n",
    "print B"
   ]
  },
  {
   "cell_type": "markdown",
   "metadata": {},
   "source": [
    "**Numpy** has a special attribute for generating **random numbers** using the *Mersenne Twister Pseudo Random Number Genrator*."
   ]
  },
  {
   "cell_type": "code",
   "execution_count": null,
   "metadata": {
    "collapsed": false
   },
   "outputs": [],
   "source": [
    "a = np.random.rand(4)                 # 1D array with 4 uniform random numbers between [0, 1]\n",
    "print a\n",
    "\n",
    "l1 = 3.0\n",
    "l2 = 6.0\n",
    "a = l1 + (l2 - l1)*np.random.rand(10) # 1D array with 10 uniform random numbers between [3.0, 6.0]\n",
    "print a"
   ]
  },
  {
   "cell_type": "code",
   "execution_count": null,
   "metadata": {
    "collapsed": false
   },
   "outputs": [],
   "source": [
    "np.random.seed(1234)\n",
    "sigma = 1.0\n",
    "mu = 0.0\n",
    "b = sigma*np.random.randn(2,4) + mu     # 2D array of normal random numbers i.e.,Gaussian distribution with mu and sigma\n",
    "\n",
    "print b\n",
    "np.random.seed(1234)                  # This sets the seed for generating random numbers, useful for repeatblity."
   ]
  },
  {
   "cell_type": "code",
   "execution_count": null,
   "metadata": {
    "collapsed": false
   },
   "outputs": [],
   "source": [
    "np.random?"
   ]
  },
  {
   "cell_type": "markdown",
   "metadata": {},
   "source": [
    "It is **imperative** that a numpy.ndarray object contains same type of elements. \n",
    "\n",
    "One can check the type of elements inside the numpy array using the attribute *dtype*."
   ]
  },
  {
   "cell_type": "code",
   "execution_count": null,
   "metadata": {
    "collapsed": false
   },
   "outputs": [],
   "source": [
    "a = np.array([1,2,3])\n",
    "print a.dtype\n",
    "\n",
    "b = np.array([1.,2.,3.])\n",
    "bi = np.array([1.,2.,3.], dtype='int64')\n",
    "print b.dtype, bi.dtype\n",
    "\n",
    "c = np.array([True, False, True, False , False])\n",
    "print c.dtype\n",
    "\n",
    "d = np.zeros(shape=(4,), dtype='complex128')\n",
    "d.real = np.random.rand(4) \n",
    "d.imag = np.random.randn(4)\n",
    "print d.dtype, d"
   ]
  },
  {
   "cell_type": "markdown",
   "metadata": {},
   "source": [
    "**Slicing and Indexing of Numpy Arrays**\n",
    "\n",
    "The items in the array can be accessed and assigned in exactly the same manner as it is done for the *lists*. \n",
    "*NOTE* : The indexing begins from 0, just like *C* Language. "
   ]
  },
  {
   "cell_type": "code",
   "execution_count": null,
   "metadata": {
    "collapsed": false
   },
   "outputs": [],
   "source": [
    "#1D array -- exactly same as list.\n",
    "\n",
    "a = np.arange(2.,42.,3)\n",
    "print a\n",
    "indxarr = np.arange(1,len(a),2)\n",
    "for j in indxarr:\n",
    "    print \"The %d element of Array is %f\"%(j,a[j])\n",
    "    \n",
    "b = a[::-1]                            # Reversing the array 'a' and storing the result in 'b'à\n",
    "print b[:4]                            # printing first 4 elements of b. "
   ]
  },
  {
   "cell_type": "code",
   "execution_count": null,
   "metadata": {
    "collapsed": false
   },
   "outputs": [],
   "source": [
    "#2D Array -- Interesting things can be done using some very cool indexing.\n",
    "\n",
    "a = np.ones(shape=(3,4))\n",
    "a[2,3] = a[1,2] = 0                    # setting indivisual element \n",
    "a[-1] = -1                             # Complete last row of the array\n",
    "a[:, -1] = -20                         # Complete last column of the array --> roots of Broadcasting!!\n",
    "print a"
   ]
  },
  {
   "cell_type": "markdown",
   "metadata": {},
   "source": [
    "**BROADCASTING**\n",
    "\n",
    "As we saw above the basic operations on numpy arrays works elementwise and therefore one would imagine that when we add two matrices they should have same array. With the technique of *Broadcasting*, it is also possible to do operations on arrays of different sizes in case *numpy* can transform these arrays so to have same size."
   ]
  },
  {
   "cell_type": "markdown",
   "metadata": {},
   "source": [
    "<img src='numpy_broadcasting.png'>"
   ]
  },
  {
   "cell_type": "code",
   "execution_count": null,
   "metadata": {
    "collapsed": false
   },
   "outputs": [],
   "source": [
    "a = np.arange(0,40,10)\n",
    "b = np.array([0.,1., 2.])\n",
    "#METHOD 0\n",
    "#c = a + b\n",
    "#print c\n",
    "\n",
    "#METHOD 1\n",
    "#A = np.zeros([4,3])\n",
    "#for i in range(3): A[:,i] = a\n",
    "#c = A + b\n",
    "#print c\n",
    "\n",
    "\n",
    "#METHOD 2\n",
    "a = np.arange(0,40,10)\n",
    "b = np.array([0.,1., 2.])\n",
    "A = a[:, np.newaxis]\n",
    "print a.shape, A.shape\n",
    "c = A + b  \n",
    "\n",
    "print a \n",
    "print A \n",
    "print b\n",
    "print c"
   ]
  },
  {
   "cell_type": "markdown",
   "metadata": {},
   "source": [
    "**!IMPORTANT!: Copies and Views**\n",
    "\n",
    "A slicing operation that we saw above just creates a view of the original array and its not allocated any new memory space. Therefore one has to be very careful in modifying the view of the original array as there may be serious consequences.  This is really tricky but its designed to ensure efficient memory handling. \n",
    "\n",
    "**REMEMBER** - VIEWS SHARE SAME MEMORY WITH THE ARRAY AND COPIES DONT. SO MODIFY THE COPIES!.\n",
    "\n",
    "This can be cleared with the following example. "
   ]
  },
  {
   "cell_type": "code",
   "execution_count": null,
   "metadata": {
    "collapsed": false
   },
   "outputs": [],
   "source": [
    "a = np.arange(2.,42.,3)\n",
    "b = a[::2]\n",
    "print \"The array a = \",a\n",
    "print \"The array b = \",b\n",
    "b[0] = -100.\n",
    "print \"The new array b = \",b                           # This is expected. \n",
    "print \"The new array a = \",a                             # !!!!!\n",
    "\n",
    "print np.may_share_memory(a,b)"
   ]
  },
  {
   "cell_type": "code",
   "execution_count": null,
   "metadata": {
    "collapsed": false
   },
   "outputs": [],
   "source": [
    "a = np.arange(2.,42.,3)\n",
    "b = a[::2].copy()                                      # This forces numpy to allocate new memory for b\n",
    "print \"The array a = \",a\n",
    "print \"The array b = \",b\n",
    "b[0] = -100.\n",
    "print \"The new array b = \",b                           # This is expected. \n",
    "print \"The new array a = \",a                             # !!!!!\n",
    "\n",
    "print np.may_share_memory(a,b)"
   ]
  },
  {
   "cell_type": "markdown",
   "metadata": {},
   "source": [
    "** Fancy Indexing with Numpy ** \n",
    "\n",
    "The indexing and slicing in numpy gives loads of flexible options and can be widely used for smart manipulation. \n",
    "For example, the index of numpy arrays need not be just a single integer but can also be *booleans* or a *list* of integers."
   ]
  },
  {
   "cell_type": "code",
   "execution_count": null,
   "metadata": {
    "collapsed": false
   },
   "outputs": [],
   "source": [
    "np.random.seed(3)\n",
    "\n",
    "a = np.random.rand(15)                    # An array of 15 random floats with a chosen seed.\n",
    "print a\n",
    "a[4:8] = np.log(0)\n",
    "# Now the task is to find all values in this array that are infinity \n",
    "print (np.isinf(a))\n",
    "mask = (np.isinf(a))\n",
    "\n",
    "#Replace these values by -100\n",
    "masked_array = a[mask]                           # or simply masked_array = a[a%3 == 0]\n",
    "\n",
    "print \"The original array : \", a \n",
    "print \"The masked array : \",masked_array\n",
    "\n",
    "a[mask] = -1 \n",
    "\n",
    "print \"The manipulated array \", a"
   ]
  },
  {
   "cell_type": "markdown",
   "metadata": {},
   "source": [
    "**MATHEMATICAL OPERATIONS**\n",
    "\n",
    "*Numpy* provides suite of mathematical, logical and reduction methods that can be used to manipulate the array \n",
    "**elementwise**. It is very important to ensure that the rules are followed in terms of matching the size of involved arrays. \n",
    "\n",
    "*BASIC OPERATIONS*"
   ]
  },
  {
   "cell_type": "code",
   "execution_count": null,
   "metadata": {
    "collapsed": false
   },
   "outputs": [],
   "source": [
    "a = np.arange(6, dtype='float64')\n",
    "b = np.linspace(1.0,2.0,6)\n",
    "print a, \"+ 2*\", b, '=',  a+2.0*b\n",
    "\n",
    "c = np.linspace(-2.0, -6.0, 5)\n",
    "print a + c"
   ]
  },
  {
   "cell_type": "code",
   "execution_count": null,
   "metadata": {
    "collapsed": false
   },
   "outputs": [],
   "source": [
    "# Simple power, multiplication etc are done elementwise.\n",
    "\n",
    "c = np.ones(shape=(3,3))\n",
    "print \"Elementwise multiplication \"\n",
    "print c*c             \n",
    "\n",
    "print \"Matrix Multiplication\"\n",
    "print np.inner(c,c)                       # c.dot(c) will also be fine."
   ]
  },
  {
   "cell_type": "markdown",
   "metadata": {},
   "source": [
    "*TRANCENDENTAL FUNCTIONS* : Numpy also has provision for trancendental functions as sine, cosine, log, tangent, exp etc."
   ]
  },
  {
   "cell_type": "code",
   "execution_count": null,
   "metadata": {
    "collapsed": false
   },
   "outputs": [],
   "source": [
    "a = np.linspace(0.,2.*np.pi,12)\n",
    "plt.plot(a, np.sin(a), 'r-o')                           # The first 1D plot using matplotlib... more later.\n"
   ]
  },
  {
   "cell_type": "markdown",
   "metadata": {},
   "source": [
    "*LOGICAL FUNCTIONS* : Can do all sorts of logical operations between two arrays of same size elementwise."
   ]
  },
  {
   "cell_type": "code",
   "execution_count": null,
   "metadata": {
    "collapsed": false
   },
   "outputs": [],
   "source": [
    "a = np.linspace(2.0,6.0,5)\n",
    "b = np.linspace(1.0,10.0,5)\n",
    "b[2] = 0\n",
    "a[2] = a[-1] = 0\n",
    "np.logical_or(a, b)\n",
    "print (a == b)"
   ]
  },
  {
   "cell_type": "markdown",
   "metadata": {},
   "source": [
    "*REDUCTION OPERATIONS* : Very useful in most of the cases that we will encounter. They inlove summing, finding min and max of array, finding the index of a particular element etc."
   ]
  },
  {
   "cell_type": "code",
   "execution_count": null,
   "metadata": {
    "collapsed": false
   },
   "outputs": [],
   "source": [
    "x = np.arange(1,8,2)\n",
    "print x\n",
    "\n",
    "print \"The sum is : %d\"%np.sum(x)\n",
    "print x.sum()"
   ]
  },
  {
   "cell_type": "code",
   "execution_count": null,
   "metadata": {
    "collapsed": false
   },
   "outputs": [],
   "source": [
    "x2D = np.array([[1,1,3],[3,4,7]])\n",
    "print x2D.shape\n",
    "print \"sum all rows for a given column\", np.sum(x2D, axis=0)\n",
    "print \"this is same as \", np.array([np.sum(x2D[:,0]), np.sum(x2D[:,1]), np.sum(x2D[:,2])])\n",
    "\n",
    "print \"sum all columns for a given row\", np.sum(x2D, axis=1)\n",
    "print \"this is same as \", np.array([np.sum(x2D[0,:]), np.sum(x2D[1,:])])\n"
   ]
  },
  {
   "cell_type": "code",
   "execution_count": null,
   "metadata": {
    "collapsed": false
   },
   "outputs": [],
   "source": [
    "# Flattening from multi-dimensional array to 1D. \n",
    "x1D = x2D.flatten()\n",
    "print np.shape(x1D), x1D\n",
    "\n",
    "# Reshaping the array for a given size. Note n*m*l = number of elements in array.\n",
    "x2Dn = x1D.reshape(3,2)\n",
    "print x2Dn\n",
    "\n"
   ]
  },
  {
   "cell_type": "markdown",
   "metadata": {
    "collapsed": true
   },
   "source": [
    "** MATPLOTLIB BASIC PLOTTING **\n",
    "\n",
    "We will start with a basic line plot and then go on modifying it learning method of how to tinker with the matploib figure. "
   ]
  },
  {
   "cell_type": "code",
   "execution_count": null,
   "metadata": {
    "collapsed": false
   },
   "outputs": [],
   "source": [
    "x = np.linspace(-np.pi, np.pi, 256, endpoint=True)          # define an array using linspace.\n",
    "C, S = np.cos(x), np.sin(x)\n",
    "plt.plot(x, C, color='blue')\n",
    "plt.plot(x, S, color='green')"
   ]
  },
  {
   "cell_type": "code",
   "execution_count": null,
   "metadata": {
    "collapsed": false
   },
   "outputs": [],
   "source": [
    "plt.plot(x, C, color='black', linestyle='--')\n",
    "plt.plot(x, S, color='green', linewidth=2)"
   ]
  },
  {
   "cell_type": "code",
   "execution_count": null,
   "metadata": {
    "collapsed": false
   },
   "outputs": [],
   "source": [
    "plt.figure(figsize=[4,4], dpi=80)\n",
    "plt.subplot(1,1,1)                  # No. of rows, No of columns and index. \n",
    "plt.plot(x, C, color='black', linestyle='--', label=r'Cosine : cos$\\theta$')\n",
    "plt.plot(x, S, color='green', linewidth=2, label=r'Sine : sin$\\theta$')\n",
    "plt.xlim([-5.0,5.])\n",
    "plt.xticks(np.linspace(-5.,5.,9,endpoint=True), fontsize=12)\n",
    "plt.ylim([-2.0,2.])\n",
    "plt.yticks(np.linspace(-2.,2.,5,endpoint=True), ['Mon', 'Tue', 'Wed', 'Thur', 'Fri'])\n",
    "#plt.legend(loc='upper right')\n",
    "plt.xlabel('x')\n",
    "plt.ylabel(r'$\\rho , \\eta$')\n",
    "\n",
    "ax = plt.gca()\n",
    "ax.spines['right'].set_color('none')\n",
    "ax.yaxis.set_ticks_position('left')\n",
    "\n",
    "#ax = plt.gca()\n",
    "ax.spines['top'].set_color('none')\n",
    "ax.xaxis.set_ticks_position('bottom')\n",
    "\n",
    "plt.figtext(0.5, 0.2,r'Trignometry',fontsize=24)\n",
    "\n",
    "#Annotation!! Slightly Complex. \n",
    "t = 2.0*np.pi/3.\n",
    "plt.scatter([t,], [np.sin(t),], 50,color='k',marker='o')\n",
    "plt.annotate(r'Value = %.2f'%np.sin(t), \n",
    "             xy=(t, np.sin(t)), xycoords='data', \n",
    "             xytext=(+10, 30), textcoords='offset points', \n",
    "             arrowprops=dict(arrowstyle='<->',connectionstyle='arc3,rad=0.2'))"
   ]
  },
  {
   "cell_type": "code",
   "execution_count": null,
   "metadata": {
    "collapsed": true
   },
   "outputs": [],
   "source": []
  }
 ],
 "metadata": {
  "kernelspec": {
   "display_name": "Python 2",
   "language": "python",
   "name": "python2"
  },
  "language_info": {
   "codemirror_mode": {
    "name": "ipython",
    "version": 2
   },
   "file_extension": ".py",
   "mimetype": "text/x-python",
   "name": "python",
   "nbconvert_exporter": "python",
   "pygments_lexer": "ipython2",
   "version": "2.7.6"
  }
 },
 "nbformat": 4,
 "nbformat_minor": 1
}
